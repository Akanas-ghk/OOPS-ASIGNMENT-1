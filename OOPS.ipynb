{
  "nbformat": 4,
  "nbformat_minor": 0,
  "metadata": {
    "colab": {
      "provenance": []
    },
    "kernelspec": {
      "name": "python3",
      "display_name": "Python 3"
    },
    "language_info": {
      "name": "python"
    }
  },
  "cells": [
    {
      "cell_type": "markdown",
      "source": [
        "# **OOPS ASSIGNMENT**"
      ],
      "metadata": {
        "id": "duu1I8DmLLZ4"
      }
    },
    {
      "cell_type": "markdown",
      "source": [
        "# **Q1. What is Object-Oriented Programming (OOP)?**"
      ],
      "metadata": {
        "id": "Lu5KRvjGLWMD"
      }
    },
    {
      "cell_type": "markdown",
      "source": [
        "Object-Oriented Programming (OOP) in Python is a paradigm that organizes code using classes and objects. It enables modular, reusable, and scalable code by incorporating four key principles: Encapsulation (data hiding), Abstraction (simplified interfaces), Inheritance (code reuse via parent-child relationships), and Polymorphism (multiple forms of functions/methods). Python implements OOP using class definitions, constructors (__init__), and methods, making complex systems easier to manage.\n",
        "\n",
        "\n",
        "\n",
        "\n",
        "\n",
        "\n",
        "\n"
      ],
      "metadata": {
        "id": "ETZq8yRtL2Vp"
      }
    },
    {
      "cell_type": "markdown",
      "source": [
        "# **Q2. What is a class in OOP?**"
      ],
      "metadata": {
        "id": "hhKbLDwuMWzG"
      }
    },
    {
      "cell_type": "markdown",
      "source": [
        "A class in Object-Oriented Programming (OOP) is a blueprint for creating objects. It defines attributes (variables) and methods (functions) that describe an object’s behavior and state. In Python, classes are created using the class keyword. Objects are instances of a class, allowing code reusability and modularity. Classes support encapsulation, inheritance, and polymorphism, making it easier to model real-world entities and manage complex programs efficiently."
      ],
      "metadata": {
        "id": "eJgnStMxMmq2"
      }
    },
    {
      "cell_type": "markdown",
      "source": [
        "# **Q3. What is an object in OOP?**"
      ],
      "metadata": {
        "id": "hqpceWrVOIIe"
      }
    },
    {
      "cell_type": "markdown",
      "source": [
        "An **object** in Object-Oriented Programming (OOP) is an instance of a **class** that encapsulates both **data (attributes)** and **behavior (methods)**. Objects represent real-world entities and interact with one another to perform operations. Each object has a unique identity, state, and behavior. It allows reusability and modular programming by enabling multiple instances of the same class, each with its own data, while sharing common functionalities."
      ],
      "metadata": {
        "id": "Six-aAf-Oq6I"
      }
    },
    {
      "cell_type": "markdown",
      "source": [
        "# **Q4. What is the difference between abstraction and encapsulation**"
      ],
      "metadata": {
        "id": "K_brDB1CMhD7"
      }
    },
    {
      "cell_type": "markdown",
      "source": [
        "Abstraction and Encapsulation are key OOP concepts but serve different purposes:\n",
        "\n",
        "Abstraction hides implementation details and shows only the necessary features. It is achieved using abstract classes and interfaces.\n",
        "Encapsulation hides data by restricting direct access and modifying it through methods (getters/setters)."
      ],
      "metadata": {
        "id": "Bqik2Ps5NPYa"
      }
    },
    {
      "cell_type": "code",
      "source": [
        "from abc import ABC, abstractmethod\n",
        "\n",
        "# Abstraction: Hides implementation details\n",
        "class Vehicle(ABC):\n",
        "    @abstractmethod\n",
        "    def start(self):\n",
        "        pass\n",
        "\n",
        "class Car(Vehicle):\n",
        "    def start(self):\n",
        "        print(\"Car engine started\")\n",
        "\n",
        "# Encapsulation: Restricts direct access\n",
        "class BankAccount:\n",
        "    def __init__(self, balance):\n",
        "        self.__balance = balance  # Private variable\n",
        "\n",
        "    def get_balance(self):\n",
        "        return self.__balance  # Controlled access\n",
        "\n",
        "car = Car()\n",
        "car.start()\n",
        "\n",
        "account = BankAccount(1000)\n",
        "print(account.get_balance())  # Encapsulation in action\n"
      ],
      "metadata": {
        "colab": {
          "base_uri": "https://localhost:8080/"
        },
        "id": "NiH26RPWNnKu",
        "outputId": "d77bb2ce-3168-4cf5-c025-e11c2d184669"
      },
      "execution_count": null,
      "outputs": [
        {
          "output_type": "stream",
          "name": "stdout",
          "text": [
            "Car engine started\n",
            "1000\n"
          ]
        }
      ]
    },
    {
      "cell_type": "markdown",
      "source": [
        "# **Q5. What are dunder methods in Python?**"
      ],
      "metadata": {
        "id": "h0UOB39CO1R-"
      }
    },
    {
      "cell_type": "markdown",
      "source": [
        "Dunder (double underscore) methods, also called magic methods, are special methods in Python that start and end with __ (e.g., __init__, __str__). These methods automate common operations like object creation, representation, and arithmetic."
      ],
      "metadata": {
        "id": "FEd8hEznO-gs"
      }
    },
    {
      "cell_type": "code",
      "source": [
        "#1. __init__ (Constructor) – Initializes an Object\n",
        "class Person:\n",
        "    def __init__(self, name, age):\n",
        "        self.name = name\n",
        "        self.age = age\n",
        "\n",
        "p = Person(\"Alice\", 25)\n",
        "print(p.name)\n",
        "print(p.age)\n"
      ],
      "metadata": {
        "colab": {
          "base_uri": "https://localhost:8080/"
        },
        "id": "2Yv92GPWPh0q",
        "outputId": "c7ab26cb-8686-47f0-bffc-ab2789acea05"
      },
      "execution_count": null,
      "outputs": [
        {
          "output_type": "stream",
          "name": "stdout",
          "text": [
            "Alice\n",
            "25\n"
          ]
        }
      ]
    },
    {
      "cell_type": "code",
      "source": [
        "# 2. __str__ (String Representation) – Defines print(object) Output\n",
        "class Person:\n",
        "    def __init__(self, name, age):\n",
        "        self.name = name\n",
        "        self.age = age\n",
        "\n",
        "    def __str__(self):\n",
        "        return f\"Person(name={self.name}, age={self.age})\"\n",
        "\n",
        "p = Person(\"Bob\", 30)\n",
        "print(p)\n",
        "\n"
      ],
      "metadata": {
        "colab": {
          "base_uri": "https://localhost:8080/"
        },
        "id": "TWEN6ORVP6Jw",
        "outputId": "9527f5e5-df34-4348-dcf7-559d5c23df2a"
      },
      "execution_count": null,
      "outputs": [
        {
          "output_type": "stream",
          "name": "stdout",
          "text": [
            "Person(name=Bob, age=30)\n"
          ]
        }
      ]
    },
    {
      "cell_type": "code",
      "source": [
        "#3. __repr__ (Official Representation) – Used by repr(object)\n",
        "class Person:\n",
        "    def __init__(self, name, age):\n",
        "        self.name = name\n",
        "        self.age = age\n",
        "\n",
        "    def __repr__(self):\n",
        "        return f\"Person('{self.name}', {self.age})\"\n",
        "\n",
        "p = Person(\"Charlie\", 40)\n",
        "print(repr(p))\n"
      ],
      "metadata": {
        "colab": {
          "base_uri": "https://localhost:8080/"
        },
        "id": "l8AtLEXTP5m4",
        "outputId": "00847af1-abb9-48cd-a86e-848e13bc9d14"
      },
      "execution_count": null,
      "outputs": [
        {
          "output_type": "stream",
          "name": "stdout",
          "text": [
            "Person('Charlie', 40)\n"
          ]
        }
      ]
    },
    {
      "cell_type": "code",
      "source": [
        "#4. __add__ (Operator Overloading for +)\n",
        "class Number:\n",
        "    def __init__(self, value):\n",
        "        self.value = value\n",
        "\n",
        "    def __add__(self, other):\n",
        "        return Number(self.value + other.value)\n",
        "\n",
        "n1 = Number(10)\n",
        "n2 = Number(20)\n",
        "result = n1 + n2\n",
        "print(result.value)\n",
        "\n"
      ],
      "metadata": {
        "colab": {
          "base_uri": "https://localhost:8080/"
        },
        "id": "uRVLxhqqQtMQ",
        "outputId": "e0dd33d4-9ae1-4b26-e80a-b8e5a4216fd2"
      },
      "execution_count": null,
      "outputs": [
        {
          "output_type": "stream",
          "name": "stdout",
          "text": [
            "30\n"
          ]
        }
      ]
    },
    {
      "cell_type": "code",
      "source": [
        "#5. __len__ (Define len(object))\n",
        "class MyList:\n",
        "    def __init__(self, items):\n",
        "        self.items = items\n",
        "\n",
        "    def __len__(self):\n",
        "        return len(self.items)\n",
        "\n",
        "lst = MyList([1, 2, 3, 4])\n",
        "print(len(lst))\n"
      ],
      "metadata": {
        "colab": {
          "base_uri": "https://localhost:8080/"
        },
        "id": "eQp7lpkfQ_na",
        "outputId": "5021bdc1-05d4-48ba-ea88-cb5db7d0469b"
      },
      "execution_count": null,
      "outputs": [
        {
          "output_type": "stream",
          "name": "stdout",
          "text": [
            "4\n"
          ]
        }
      ]
    },
    {
      "cell_type": "markdown",
      "source": [
        "# **Q6.Explain the concept of inheritance in OOP**"
      ],
      "metadata": {
        "id": "IChoGl5fRZM5"
      }
    },
    {
      "cell_type": "markdown",
      "source": [
        "**Inheritance** in Object-Oriented Programming (OOP) allows a class (**child/derived class**) to acquire properties and behaviors from another class (**parent/base class**). It promotes **code reusability** and establishes a hierarchical relationship between classes. Python supports **single, multiple, multilevel, and hierarchical inheritance** using the `class Child(Parent):` syntax. This enables derived classes to override or extend functionalities while maintaining a shared structure, reducing redundancy and improving maintainability."
      ],
      "metadata": {
        "id": "UTAsf8y6RmJg"
      }
    },
    {
      "cell_type": "markdown",
      "source": [
        "# **Q7.What is polymorphism in OOP**"
      ],
      "metadata": {
        "id": "iw_b6SdLRzSU"
      }
    },
    {
      "cell_type": "markdown",
      "source": [
        "Polymorphism in Object-Oriented Programming (OOP) allows objects of different classes to be treated as instances of the same class through a shared interface. It enables method overloading (same function name, different parameters) and method overriding (redefining inherited methods). Polymorphism improves flexibility and scalability by allowing different objects to respond differently to the same method call, enhancing code reusability and maintainability."
      ],
      "metadata": {
        "id": "jH09NnBDSBBw"
      }
    },
    {
      "cell_type": "code",
      "source": [
        "class Animal:\n",
        "    def speak(self):\n",
        "        pass\n",
        "\n",
        "class Dog(Animal):\n",
        "    def speak(self):\n",
        "        return \"Woof!\"\n",
        "\n",
        "class Cat(Animal):\n",
        "    def speak(self):\n",
        "        return \"Meow!\"\n",
        "\n",
        "def make_sound(animal):\n",
        "    print(animal.speak())\n",
        "\n",
        "dog = Dog()\n",
        "cat = Cat()\n",
        "\n",
        "make_sound(dog)\n",
        "make_sound(cat)\n"
      ],
      "metadata": {
        "colab": {
          "base_uri": "https://localhost:8080/"
        },
        "id": "tl-riryxSOr0",
        "outputId": "141be804-1f19-4a7d-c996-8674a161b37c"
      },
      "execution_count": null,
      "outputs": [
        {
          "output_type": "stream",
          "name": "stdout",
          "text": [
            "Woof!\n",
            "Meow!\n"
          ]
        }
      ]
    },
    {
      "cell_type": "markdown",
      "source": [
        "Q8.How is encapsulation achieved in Python"
      ],
      "metadata": {
        "id": "T3HxscH1SiHe"
      }
    },
    {
      "cell_type": "markdown",
      "source": [
        "Encapsulation is achieved in Python by restricting direct access to data and controlling modifications through methods. It is implemented using private (__), protected (_), and public attributes.\n",
        "\n",
        "How Encapsulation is Achieved    \n",
        "Using Private Variables (__var) – Prevents direct access.   \n",
        "Using Getter & Setter Methods – Controls how data is accessed/modified.   \n",
        "Using Protected Variables (_var) – Indicates restricted access (convention-based)"
      ],
      "metadata": {
        "id": "xaqEHyG6S6v7"
      }
    },
    {
      "cell_type": "code",
      "source": [
        "class BankAccount:\n",
        "    def __init__(self, balance):\n",
        "        self.__balance = balance  # Private variable\n",
        "\n",
        "    # Getter Method (to access private data)\n",
        "    def get_balance(self):\n",
        "        return self.__balance\n",
        "\n",
        "    # Setter Method (to modify private data safely)\n",
        "    def deposit(self, amount):\n",
        "        if amount > 0:\n",
        "            self.__balance += amount\n",
        "            return f\"Deposited {amount}. New Balance: {self.__balance}\"\n",
        "        return \"Invalid Deposit Amount\"\n",
        "\n",
        "# Create an object\n",
        "account = BankAccount(1000)\n",
        "\n",
        "# Accessing balance using getter\n",
        "print(account.get_balance())  # 1000\n",
        "\n",
        "# Modifying balance using setter\n",
        "print(account.deposit(500))   # Deposited 500. New Balance: 1500\n",
        "\n",
        "# Direct access fails (Uncommenting the below line will raise an error)\n",
        "# print(account.__balance)\n"
      ],
      "metadata": {
        "colab": {
          "base_uri": "https://localhost:8080/"
        },
        "id": "9OolqeOnTKeP",
        "outputId": "55f49ec7-cc48-43dc-abbc-efcc76d94a70"
      },
      "execution_count": null,
      "outputs": [
        {
          "output_type": "stream",
          "name": "stdout",
          "text": [
            "1000\n",
            "Deposited 500. New Balance: 1500\n"
          ]
        }
      ]
    },
    {
      "cell_type": "markdown",
      "source": [
        "# **Q9. What is a constructor in Python?**"
      ],
      "metadata": {
        "id": "jPNH6YcCRXvd"
      }
    },
    {
      "cell_type": "markdown",
      "source": [
        " A constructor is a special method in Python, named __init__(), that is automatically called when a new object of a class is created. It initializes the object's attributes and sets up necessary data.    \n",
        "Key Points about Constructors:                     \n",
        "Defined using def __init__(self, parameters):        \n",
        "Called automatically when an object is instantiated.      \n",
        "Helps in setting default values for object attributes\n"
      ],
      "metadata": {
        "id": "m0y_zaP4VpHf"
      }
    },
    {
      "cell_type": "code",
      "source": [
        "class Person:\n",
        "    def __init__(self, name, age):  # Constructor\n",
        "        self.name = name\n",
        "        self.age = age\n",
        "\n",
        "    def display(self):\n",
        "        return f\"Name: {self.name}, Age: {self.age}\"\n",
        "\n",
        "# Creating objects\n",
        "p1 = Person(\"Alice\", 25)\n",
        "p2 = Person(\"Bob\", 30)\n",
        "\n",
        "# Accessing attributes\n",
        "print(p1.display())\n",
        "print(p2.display())\n"
      ],
      "metadata": {
        "colab": {
          "base_uri": "https://localhost:8080/"
        },
        "id": "oUx1x_yYWZUt",
        "outputId": "56180ca9-2747-4d46-c5e2-c6eb74a8f48a"
      },
      "execution_count": null,
      "outputs": [
        {
          "output_type": "stream",
          "name": "stdout",
          "text": [
            "Name: Alice, Age: 25\n",
            "Name: Bob, Age: 30\n"
          ]
        }
      ]
    },
    {
      "cell_type": "markdown",
      "source": [
        "# **Q10. What are class and static methods in Python?**"
      ],
      "metadata": {
        "id": "rHCfchU_Rrir"
      }
    },
    {
      "cell_type": "markdown",
      "source": [
        "In Python, class methods and static methods are two types of methods that serve different purposes within a class.\n",
        "\n",
        "Class Methods:\n",
        "\n",
        "Defined using the @classmethod decorator.\n",
        "\n",
        "The first parameter is cls, representing the class itself.\n",
        "\n",
        "Can access and modify class-level variables.\n",
        "\n",
        "Useful for tasks that involve the class as a whole, such as alternative constructors."
      ],
      "metadata": {
        "id": "n-0O966NR3Kw"
      }
    },
    {
      "cell_type": "code",
      "source": [
        "class MyClass:\n",
        "    class_variable = 0\n",
        "\n",
        "    @classmethod\n",
        "    def increment_class_variable(cls):\n",
        "        cls.class_variable += 1\n"
      ],
      "metadata": {
        "id": "QAZKEuj-SWkg"
      },
      "execution_count": null,
      "outputs": []
    },
    {
      "cell_type": "markdown",
      "source": [
        "Static Methods:\n",
        "\n",
        "Defined using the @staticmethod decorator.\n",
        "\n",
        "Do not take self or cls as the first parameter.\n",
        "\n",
        "Cannot access or modify class or instance variables.\n",
        "\n",
        "Useful for utility functions related to the class but independent of class or instance state."
      ],
      "metadata": {
        "id": "JHdUxH_iSpUi"
      }
    },
    {
      "cell_type": "code",
      "source": [
        "class MathOperations:\n",
        "    @staticmethod\n",
        "    def add(a, b):\n",
        "        return a + b\n"
      ],
      "metadata": {
        "id": "fAvfAx5sSsgZ"
      },
      "execution_count": null,
      "outputs": []
    },
    {
      "cell_type": "markdown",
      "source": [
        "# ***Q11.  What is method overloading in Python?***"
      ],
      "metadata": {
        "id": "OYZK6CYoTZO9"
      }
    },
    {
      "cell_type": "markdown",
      "source": [
        "In Python, method overloading refers to defining multiple methods with the same name but different parameters. However, Python does not support traditional method overloading directly due to its dynamic typing system.\n",
        "CCBP.IN\n",
        " Instead, similar functionality can be achieved using default arguments or variable-length arguments (*args, **kwargs)."
      ],
      "metadata": {
        "id": "-TiM9hRaTjAB"
      }
    },
    {
      "cell_type": "code",
      "source": [
        "class Example:\n",
        "    def display(self, *args):\n",
        "        if len(args) == 1:\n",
        "            print(f\"One argument: {args[0]}\")\n",
        "        elif len(args) == 2:\n",
        "            print(f\"Two arguments: {args[0]}, {args[1]}\")\n",
        "        else:\n",
        "            print(\"No or more than two arguments\")\n",
        "\n",
        "obj = Example()\n",
        "obj.display(10)\n",
        "obj.display(10, 20)\n",
        "obj.display()\n"
      ],
      "metadata": {
        "colab": {
          "base_uri": "https://localhost:8080/"
        },
        "id": "_ud5eV3BUHuk",
        "outputId": "7083a2b0-557a-4fa8-d363-2a74e5744208"
      },
      "execution_count": null,
      "outputs": [
        {
          "output_type": "stream",
          "name": "stdout",
          "text": [
            "One argument: 10\n",
            "Two arguments: 10, 20\n",
            "No or more than two arguments\n"
          ]
        }
      ]
    },
    {
      "cell_type": "markdown",
      "source": [
        "# **Q12. What is method overriding in OOP**"
      ],
      "metadata": {
        "id": "_yhiaTiyUrly"
      }
    },
    {
      "cell_type": "markdown",
      "source": [
        "In object-oriented programming (OOP), method overriding allows a subclass to provide a specific implementation of a method that is already defined in its superclass. This enables polymorphism, where the subclass's version of the method is invoked, allowing for tailored behavior."
      ],
      "metadata": {
        "id": "wp919MCNWegQ"
      }
    },
    {
      "cell_type": "code",
      "source": [
        "class Animal:\n",
        "    def sound(self):\n",
        "        return \"Some generic sound\"\n",
        "\n",
        "class Dog(Animal):\n",
        "    def sound(self):\n",
        "        return \"Bark\"\n",
        "\n",
        "class Cat(Animal):\n",
        "    def sound(self):\n",
        "        return \"Meow\"\n",
        "\n",
        "# Usage\n",
        "animals = [Animal(), Dog(), Cat()]\n",
        "for animal in animals:\n",
        "    print(animal.sound())\n"
      ],
      "metadata": {
        "colab": {
          "base_uri": "https://localhost:8080/"
        },
        "id": "6JxShwgzWjXY",
        "outputId": "ac7b4d32-1019-488e-91d3-fd30a9754bbd"
      },
      "execution_count": null,
      "outputs": [
        {
          "output_type": "stream",
          "name": "stdout",
          "text": [
            "Some generic sound\n",
            "Bark\n",
            "Meow\n"
          ]
        }
      ]
    },
    {
      "cell_type": "markdown",
      "source": [
        "# **Q13. What is a property decorator in Python**"
      ],
      "metadata": {
        "id": "bXCrYRAvW0hB"
      }
    },
    {
      "cell_type": "markdown",
      "source": [
        "In Python, the @property decorator is a built-in feature that allows developers to define methods in a class that can be accessed like attributes, enabling controlled access to instance variables. This approach promotes encapsulation and data validation, ensuring that internal data remains consistent and secure.\n"
      ],
      "metadata": {
        "id": "faAqT6xZXmDy"
      }
    },
    {
      "cell_type": "code",
      "source": [
        "class Celsius:\n",
        "    def __init__(self, temperature=0):\n",
        "        self._temperature = temperature\n",
        "\n",
        "    @property\n",
        "    def temperature(self):\n",
        "        return self._temperature\n",
        "\n",
        "    @temperature.setter\n",
        "    def temperature(self, value):\n",
        "        if value < -273.15:\n",
        "            raise ValueError(\"Temperature cannot be below -273.15°C\")\n",
        "        self._temperature = value\n",
        "\n",
        "    def to_fahrenheit(self):\n",
        "        return (self.temperature * 1.8) + 32\n",
        "\n",
        "# Usage\n",
        "c = Celsius(25)\n",
        "print(c.temperature)\n",
        "print(c.to_fahrenheit())\n",
        "c.temperature = 30\n",
        "print(c.temperature)\n"
      ],
      "metadata": {
        "colab": {
          "base_uri": "https://localhost:8080/"
        },
        "id": "lpyZ0XskYAAD",
        "outputId": "6da25804-34bc-4757-9543-41656cba04a1"
      },
      "execution_count": null,
      "outputs": [
        {
          "output_type": "stream",
          "name": "stdout",
          "text": [
            "25\n",
            "77.0\n",
            "30\n"
          ]
        }
      ]
    },
    {
      "cell_type": "markdown",
      "source": [
        "Q14."
      ],
      "metadata": {
        "id": "UfZ41YLSYNp8"
      }
    },
    {
      "cell_type": "markdown",
      "source": [
        "Polymorphism is a fundamental concept in object-oriented programming (OOP) that allows objects of different classes to be treated through a common interface, enabling a single function or method to operate on various object types.\n",
        "\n",
        "\n",
        "Importance of Polymorphism in OOP:\n",
        "\n",
        "Code Reusability: Developers can write generic functions or methods that work with different object types, reducing code duplication.\n",
        "\n",
        "Maintainability: By adhering to a common interface, polymorphism simplifies code maintenance and updates, as changes to the interface propagate consistently across implementations.\n",
        "\n",
        "Extensibility: New classes can be introduced without altering existing code, provided they implement the common interface, facilitating system scalability.\n",
        "\n",
        "Testing: Polymorphism allows dependencies to be mocked or stubbed duriring testing, enabling consistent and deterministic tests."
      ],
      "metadata": {
        "id": "rj1Tvk9eYlrQ"
      }
    },
    {
      "cell_type": "markdown",
      "source": [
        "# **Q15. What is an abstract class in Python**"
      ],
      "metadata": {
        "id": "TQFziprTZF62"
      }
    },
    {
      "cell_type": "markdown",
      "source": [
        "In Python, an abstract class serves as a blueprint for other classes, allowing you to define methods that must be implemented by any subclass, thereby enforcing a consistent interface. Abstract classes cannot be instantiated on their own. To create an abstract class, you use the abc module, which provides the infrastructure for defining abstract base classes (ABCs).\n"
      ],
      "metadata": {
        "id": "aHLGH07aZR1T"
      }
    },
    {
      "cell_type": "code",
      "source": [
        "from abc import ABC, abstractmethod\n",
        "\n",
        "class Animal(ABC):\n",
        "    @abstractmethod\n",
        "    def sound(self):\n",
        "        pass\n",
        "\n",
        "class Dog(Animal):\n",
        "    def sound(self):\n",
        "        return \"Bark\"\n",
        "dog = Dog()\n",
        "print(dog.sound())\n"
      ],
      "metadata": {
        "colab": {
          "base_uri": "https://localhost:8080/"
        },
        "id": "SKfwVNbDbjKq",
        "outputId": "5f800eaf-098f-420d-beca-c1a9dff6fe77"
      },
      "execution_count": null,
      "outputs": [
        {
          "output_type": "stream",
          "name": "stdout",
          "text": [
            "Bark\n"
          ]
        }
      ]
    },
    {
      "cell_type": "markdown",
      "source": [
        "# **Q16.  What are the advantages of OOP**"
      ],
      "metadata": {
        "id": "NZHdXA8kby7w"
      }
    },
    {
      "cell_type": "markdown",
      "source": [
        "Object-Oriented Programming (OOP) offers several advantages that enhance software development:\n",
        "\n",
        "Reusability: Classes and objects can be reused across different programs, reducing redundancy and development time.\n",
        "\n",
        "\n",
        "Scalability: OOP facilitates the addition of new features or modifications with minimal impact on existing code, supporting scalable software development\n",
        "\n",
        "Maintainability: Encapsulation allows for modular code, making it easier to locate and fix bugs or update functionality.\n",
        "\n",
        "\n",
        "Security: Encapsulation restricts direct access to data, protecting it from unintended modifications and enhancing security.\n",
        "\n",
        "\n",
        "Productivity: OOP's modular structure and code reusability contribute to increased developer productivity.\n"
      ],
      "metadata": {
        "id": "2FpCFTxXcHxa"
      }
    },
    {
      "cell_type": "markdown",
      "source": [
        "# **Q17.What is the difference between a class variable and an instance variable**"
      ],
      "metadata": {
        "id": "5GTzE6WFca9g"
      }
    },
    {
      "cell_type": "markdown",
      "source": [
        "In Python, class variables and instance variables differ in scope and usage within object-oriented programming.\n",
        "\n",
        "Class Variables:\n",
        "\n",
        "Definition: Shared across all instances of a class, these variables are defined within the class but outside any instance methods.\n",
        "\n",
        "Purpose: They maintain consistent data that should be uniform across all instances.\n",
        "\n",
        "Access: Accessible via the class itself or any instance.\n",
        "\n",
        "Instance Variables:\n",
        "\n",
        "Definition: Unique to each instance, these variables are typically defined within the __init__ method.\n",
        "\n",
        "Purpose: They store data pertinent to individual instances.\n",
        "\n",
        "Access: Accessible only through the specific instance they belong to."
      ],
      "metadata": {
        "id": "vIJrxUsEcl5S"
      }
    },
    {
      "cell_type": "code",
      "source": [
        "class Animal:\n",
        "    species = 'Canine'  # Class variable\n",
        "\n",
        "    def __init__(self, name):\n",
        "        self.name = name  # Instance variable\n",
        "\n",
        "# Creating instances\n",
        "dog1 = Animal('Buddy')\n",
        "dog2 = Animal('Max')\n",
        "\n",
        "# Accessing class variable\n",
        "print(dog1.species)\n",
        "print(dog2.species)\n",
        "\n",
        "# Accessing instance variable\n",
        "print(dog1.name)\n",
        "print(dog2.name)\n",
        "\n",
        "# Modifying class variable\n",
        "Animal.species = 'Feline'\n",
        "print(dog1.species)  #\n",
        "print(dog2.species)\n",
        "\n",
        "# Modifying instance variable\n",
        "dog1.name = 'Charlie'\n",
        "print(dog1.name)\n",
        "print(dog2.name)\n"
      ],
      "metadata": {
        "colab": {
          "base_uri": "https://localhost:8080/"
        },
        "id": "EWMfaI3Lc3ow",
        "outputId": "81095723-b995-4ba0-b5dc-1e4b215c5a4e"
      },
      "execution_count": null,
      "outputs": [
        {
          "output_type": "stream",
          "name": "stdout",
          "text": [
            "Canine\n",
            "Canine\n",
            "Buddy\n",
            "Max\n",
            "Feline\n",
            "Feline\n",
            "Charlie\n",
            "Max\n"
          ]
        }
      ]
    },
    {
      "cell_type": "markdown",
      "source": [
        "# **Q18.What is multiple inheritance in Python**"
      ],
      "metadata": {
        "id": "2WMu-EzydTqG"
      }
    },
    {
      "cell_type": "markdown",
      "source": [
        "Multiple inheritance in Python allows a class to inherit attributes and methods from more than one parent class. This enables code reusability and modular design. However, it can lead to conflicts, which Python resolves using the Method Resolution Order (MRO)."
      ],
      "metadata": {
        "id": "cRni0QN2j43F"
      }
    },
    {
      "cell_type": "code",
      "source": [
        "class Parent1:\n",
        "    def method1(self):\n",
        "        print(\"Parent1 method\")\n",
        "\n",
        "class Parent2:\n",
        "    def method2(self):\n",
        "        print(\"Parent2 method\")\n",
        "\n",
        "class Child(Parent1, Parent2):\n",
        "    def method3(self):\n",
        "        print(\"Child method\")\n",
        "\n",
        "obj = Child()\n",
        "obj.method1()\n",
        "obj.method2()\n",
        "obj.method3()\n"
      ],
      "metadata": {
        "colab": {
          "base_uri": "https://localhost:8080/"
        },
        "id": "310C_rSykmJ_",
        "outputId": "dc3ede3f-84b7-4923-f9cd-2af628e8afa7"
      },
      "execution_count": null,
      "outputs": [
        {
          "output_type": "stream",
          "name": "stdout",
          "text": [
            "Parent1 method\n",
            "Parent2 method\n",
            "Child method\n"
          ]
        }
      ]
    },
    {
      "cell_type": "markdown",
      "source": [
        "# **Q19. Explain the purpose of ‘’__str__’ and ‘__repr__’ ‘ methods in Python**"
      ],
      "metadata": {
        "id": "GWLB_Se_k_wr"
      }
    },
    {
      "cell_type": "markdown",
      "source": [
        "Purpose of __str__ and __repr__ in Python      \n",
        "In Python, __str__ and __repr__ are special methods used to define string representations of objects.    \n",
        "\n",
        "__str__ (str(obj)): Provides a user-friendly, readable representation of an object, used mainly for display.    \n",
        "__repr__ (repr(obj)): Returns an unambiguous representation for debugging, ideally allowing object recreation."
      ],
      "metadata": {
        "id": "LCs1lysHlV2l"
      }
    },
    {
      "cell_type": "code",
      "source": [
        "class Person:\n",
        "    def __init__(self, name, age):\n",
        "        self.name = name\n",
        "        self.age = age\n",
        "\n",
        "    def __str__(self):\n",
        "        return f\"Person: {self.name}, Age: {self.age}\"\n",
        "\n",
        "    def __repr__(self):\n",
        "        return f\"Person('{self.name}', {self.age})\"\n",
        "\n",
        "p = Person(\"Alice\", 30)\n",
        "print(str(p))\n",
        "print(repr(p))\n"
      ],
      "metadata": {
        "colab": {
          "base_uri": "https://localhost:8080/"
        },
        "id": "UA7IAWcFlzRS",
        "outputId": "bd588c88-fff2-4e19-c9dd-3f396eb107d7"
      },
      "execution_count": null,
      "outputs": [
        {
          "output_type": "stream",
          "name": "stdout",
          "text": [
            "Person: Alice, Age: 30\n",
            "Person('Alice', 30)\n"
          ]
        }
      ]
    },
    {
      "cell_type": "markdown",
      "source": [
        "# **Q20. What is the significance of the ‘super()’ function in Python**"
      ],
      "metadata": {
        "id": "kgLljPCwmK-y"
      }
    },
    {
      "cell_type": "markdown",
      "source": [
        "Significance of super() in Python   \n",
        "The super() function in Python allows a subclass to access methods from its parent class. It is mainly used in inheritance to avoid code duplication and ensure proper method resolution.\n",
        "\n",
        "Key Benefits:   \n",
        "Calls methods from a parent class without explicitly naming it.   \n",
        "Supports multiple inheritance by following the Method Resolution Order (MRO).  \n",
        "Prevents redundant code and helps maintain scalability.\n"
      ],
      "metadata": {
        "id": "4uzpgtNqmkGr"
      }
    },
    {
      "cell_type": "code",
      "source": [
        "class Parent:\n",
        "    def greet(self):\n",
        "        print(\"Hello from Parent\")\n",
        "\n",
        "class Child(Parent):\n",
        "    def greet(self):\n",
        "        super().greet()  # Calls Parent's method\n",
        "        print(\"Hello from Child\")\n",
        "\n",
        "c = Child()\n",
        "c.greet()\n"
      ],
      "metadata": {
        "colab": {
          "base_uri": "https://localhost:8080/"
        },
        "id": "zWAhANi3nEnk",
        "outputId": "2e36af56-ef7e-4816-f635-4a8e86461390"
      },
      "execution_count": null,
      "outputs": [
        {
          "output_type": "stream",
          "name": "stdout",
          "text": [
            "Hello from Parent\n",
            "Hello from Child\n"
          ]
        }
      ]
    },
    {
      "cell_type": "markdown",
      "source": [
        "# **Q21. What is the significance of the __del__ method in Python**"
      ],
      "metadata": {
        "id": "Z8kgbEDFnWQ-"
      }
    },
    {
      "cell_type": "markdown",
      "source": [
        "Significance of __del__ Method in Python   \n",
        "The __del__ method in Python is a special method (destructor) that is called when an object is about to be destroyed. It is used to release resources like closing files, network connections, or database connections when an object is deleted.    \n",
        "Key Points:    \n",
        "Automatically invoked when an object goes out of scope or del obj is called.   \n",
        "Helps in resource management and preventing memory leaks.     \n",
        "Should be used cautiously, as relying on it can sometimes lead to unexpected behavior in garbage collection."
      ],
      "metadata": {
        "id": "6Jwk1Ji2nvqL"
      }
    },
    {
      "cell_type": "code",
      "source": [
        "class Demo:\n",
        "    def __init__(self, name):\n",
        "        self.name = name\n",
        "        print(f\"Object {self.name} created\")\n",
        "\n",
        "    def __del__(self):\n",
        "        print(f\"Object {self.name} destroyed\")\n",
        "\n",
        "obj = Demo(\"A\")\n",
        "del obj  # Calls __del__()\n"
      ],
      "metadata": {
        "colab": {
          "base_uri": "https://localhost:8080/"
        },
        "id": "ulX0aV06oUgn",
        "outputId": "795a521d-05db-49a7-f9ca-4cb00065df1d"
      },
      "execution_count": null,
      "outputs": [
        {
          "output_type": "stream",
          "name": "stdout",
          "text": [
            "Object A created\n",
            "Object A destroyed\n"
          ]
        }
      ]
    },
    {
      "cell_type": "markdown",
      "source": [
        "# **Q22. What is the difference between @staticmethod and @classmethod in Python**"
      ],
      "metadata": {
        "id": "eMv6sblGpc_P"
      }
    },
    {
      "cell_type": "markdown",
      "source": [
        "Difference Between @staticmethod and @classmethod in Python    \n",
        "Both @staticmethod and @classmethod define methods that do not operate on instance attributes, but they differ in how they handle class references.   \n",
        "\n",
        "1. @staticmethod    \n",
        "Does not take self or cls as the first argument.   \n",
        "Acts like a regular function inside a class but is accessible via the class.  \n",
        "Used for utility methods that don’t need instance or class data.\n",
        "2. @classmethod   \n",
        "Takes cls as the first parameter, referring to the class itself.    \n",
        "Can modify class-level attributes."
      ],
      "metadata": {
        "id": "eZ-3JFO4pq3p"
      }
    },
    {
      "cell_type": "code",
      "source": [
        "class Demo:\n",
        "    class_var = \"Class Variable\"\n",
        "\n",
        "    @staticmethod\n",
        "    def static_method():\n",
        "        print(\"Static Method: No class or instance reference\")\n",
        "\n",
        "    @classmethod\n",
        "    def class_method(cls):\n",
        "        print(f\"Class Method: Accessing {cls.class_var}\")\n",
        "\n",
        "Demo.static_method()\n",
        "Demo.class_method()\n"
      ],
      "metadata": {
        "colab": {
          "base_uri": "https://localhost:8080/"
        },
        "id": "f9Kr_5TurHW8",
        "outputId": "b20567dd-7346-4210-9f10-bad1c63105c9"
      },
      "execution_count": null,
      "outputs": [
        {
          "output_type": "stream",
          "name": "stdout",
          "text": [
            "Static Method: No class or instance reference\n",
            "Class Method: Accessing Class Variable\n"
          ]
        }
      ]
    },
    {
      "cell_type": "markdown",
      "source": [
        "# **Q23. How does polymorphism work in Python with inheritance**"
      ],
      "metadata": {
        "id": "2tmltPGytJUD"
      }
    },
    {
      "cell_type": "markdown",
      "source": [
        "Polymorphism allows different classes to have methods with the same name, enabling a common interface for multiple types. In inheritance, polymorphism lets a child class override a parent class method, allowing dynamic method behavior based on the object type."
      ],
      "metadata": {
        "id": "MQdJZcy0tnJd"
      }
    },
    {
      "cell_type": "code",
      "source": [
        "class Animal:\n",
        "    def sound(self):\n",
        "        print(\"Animals make sounds\")\n",
        "\n",
        "class Dog(Animal):\n",
        "    def sound(self):\n",
        "        print(\"Dog barks\")\n",
        "\n",
        "class Cat(Animal):\n",
        "    def sound(self):\n",
        "        print(\"Cat meows\")\n",
        "\n",
        "# Using polymorphism\n",
        "animals = [Dog(), Cat()]\n",
        "for animal in animals:\n",
        "    animal.sound()\n"
      ],
      "metadata": {
        "colab": {
          "base_uri": "https://localhost:8080/"
        },
        "id": "zENg0-nQtpxE",
        "outputId": "17128f48-448e-43ae-e281-0f7820c6e40e"
      },
      "execution_count": null,
      "outputs": [
        {
          "output_type": "stream",
          "name": "stdout",
          "text": [
            "Dog barks\n",
            "Cat meows\n"
          ]
        }
      ]
    },
    {
      "cell_type": "markdown",
      "source": [
        "# **Q24. What is method chaining in Python OOP**"
      ],
      "metadata": {
        "id": "5UTlA2CYrX7D"
      }
    },
    {
      "cell_type": "markdown",
      "source": [
        "Method chaining in Python allows multiple methods to be called on the same object in a single line. This is achieved by having each method return self, enabling successive method calls. It enhances code readability and reduces the need for intermediate variables.\n",
        "\n"
      ],
      "metadata": {
        "id": "rlqusWaTsjkq"
      }
    },
    {
      "cell_type": "code",
      "source": [
        "class Person:\n",
        "    def __init__(self, name):\n",
        "        self.name = name\n",
        "\n",
        "    def greet(self):\n",
        "        print(f\"Hello, {self.name}!\")\n",
        "        return self\n",
        "\n",
        "    def farewell(self):\n",
        "        print(f\"Goodbye, {self.name}!\")\n",
        "        return self\n",
        "\n",
        "p = Person(\"Alice\")\n",
        "p.greet().farewell()\n"
      ],
      "metadata": {
        "colab": {
          "base_uri": "https://localhost:8080/"
        },
        "id": "xlQEB1UWrXTn",
        "outputId": "8f5a328b-bb45-4cee-93f5-c4349c0a9d05"
      },
      "execution_count": null,
      "outputs": [
        {
          "output_type": "stream",
          "name": "stdout",
          "text": [
            "Hello, Alice!\n",
            "Goodbye, Alice!\n"
          ]
        },
        {
          "output_type": "execute_result",
          "data": {
            "text/plain": [
              "<__main__.Person at 0x7beb72c76b90>"
            ]
          },
          "metadata": {},
          "execution_count": 6
        }
      ]
    },
    {
      "cell_type": "markdown",
      "source": [
        "# **Q25. What is the purpose of the __call__ method in Python?**"
      ],
      "metadata": {
        "id": "DkUugrf4t7tz"
      }
    },
    {
      "cell_type": "markdown",
      "source": [
        "The __call__ method allows an instance of a class to be invoked like a function. When defined, calling an object (obj()) executes obj.__call__(). It is useful for creating callable objects, function wrappers, or implementing decorators."
      ],
      "metadata": {
        "id": "VeGp554ZuQc3"
      }
    },
    {
      "cell_type": "code",
      "source": [
        "class Multiplier:\n",
        "    def __init__(self, factor):\n",
        "        self.factor = factor\n",
        "\n",
        "    def __call__(self, number):\n",
        "        return number * self.factor\n",
        "\n",
        "# Creating an instance\n",
        "double = Multiplier(2)\n",
        "print(double(5))  # Calls __call__()\n",
        "\n",
        "triple = Multiplier(3)\n",
        "print(triple(5))\n"
      ],
      "metadata": {
        "colab": {
          "base_uri": "https://localhost:8080/"
        },
        "id": "zVjvJeo3uPiI",
        "outputId": "df4baaec-dfae-4373-dd4f-f0fec4780ea8"
      },
      "execution_count": null,
      "outputs": [
        {
          "output_type": "stream",
          "name": "stdout",
          "text": [
            "10\n",
            "15\n"
          ]
        }
      ]
    },
    {
      "cell_type": "markdown",
      "source": [
        "# **PRACTICAL QUESTION**"
      ],
      "metadata": {
        "id": "g8U4-EnVusHH"
      }
    },
    {
      "cell_type": "markdown",
      "source": [
        "Q1.  Create a parent class Animal with a method speak() that prints a generic message. Create a child class Dog\n",
        "that overrides the speak() method to print \"Bark!\"."
      ],
      "metadata": {
        "id": "9V3q_FI3u2SU"
      }
    },
    {
      "cell_type": "code",
      "source": [
        "class Animal:\n",
        "    def speak(self):\n",
        "        print(\"Animal makes a sound\")\n",
        "\n",
        "class Dog(Animal):\n",
        "    def speak(self):\n",
        "        print(\"Bark!\")\n",
        "\n",
        "# Creating instances\n",
        "animal = Animal()\n",
        "animal.speak()\n",
        "\n",
        "dog = Dog()\n",
        "dog.speak()\n"
      ],
      "metadata": {
        "colab": {
          "base_uri": "https://localhost:8080/"
        },
        "id": "PJSpb_w7u_3E",
        "outputId": "9231c4b9-b688-4f2d-f995-c2b58e9e26f2"
      },
      "execution_count": null,
      "outputs": [
        {
          "output_type": "stream",
          "name": "stdout",
          "text": [
            "Animal makes a sound\n",
            "Bark!\n"
          ]
        }
      ]
    },
    {
      "cell_type": "markdown",
      "source": [
        "Q2.  Write a program to create an abstract class Shape with a method area(). Derive classes Circle and Rectangle\n",
        "from it and implement the area() method in both.\n",
        "\n",
        "\n"
      ],
      "metadata": {
        "id": "2nC6o9ogvSGp"
      }
    },
    {
      "cell_type": "code",
      "source": [
        "from abc import ABC, abstractmethod\n",
        "import math\n",
        "\n",
        "# Abstract class\n",
        "class Shape(ABC):\n",
        "    @abstractmethod\n",
        "    def area(self):\n",
        "        pass  # Must be implemented by subclasses\n",
        "\n",
        "# Circle class\n",
        "class Circle(Shape):\n",
        "    def __init__(self, radius):\n",
        "        self.radius = radius\n",
        "\n",
        "    def area(self):\n",
        "        return math.pi * self.radius ** 2\n",
        "\n",
        "# Rectangle class\n",
        "class Rectangle(Shape):\n",
        "    def __init__(self, length, width):\n",
        "        self.length = length\n",
        "        self.width = width\n",
        "\n",
        "    def area(self):\n",
        "        return self.length * self.width\n",
        "\n",
        "# Creating objects\n",
        "circle = Circle(5)\n",
        "rectangle = Rectangle(4, 6)\n",
        "\n",
        "print(\"Circle Area:\", circle.area())\n",
        "print(\"Rectangle Area:\", rectangle.area())\n"
      ],
      "metadata": {
        "colab": {
          "base_uri": "https://localhost:8080/"
        },
        "id": "6HgFDm_WxC-o",
        "outputId": "1742513e-e7c3-4bb4-9034-0cfa6eb46a84"
      },
      "execution_count": null,
      "outputs": [
        {
          "output_type": "stream",
          "name": "stdout",
          "text": [
            "Circle Area: 78.53981633974483\n",
            "Rectangle Area: 24\n"
          ]
        }
      ]
    },
    {
      "cell_type": "markdown",
      "source": [
        "# **Q3. Implement a multi-level inheritance scenario where a class Vehicle has an attribute type. Derive a class Car** **and further derive a class ElectricCar that adds a battery attribute.**"
      ],
      "metadata": {
        "id": "pgQWDxczxaFy"
      }
    },
    {
      "cell_type": "code",
      "source": [
        "# Base class\n",
        "class Vehicle:\n",
        "    def __init__(self, type):\n",
        "        self.type = type\n",
        "\n",
        "    def show_type(self):\n",
        "        print(f\"Vehicle Type: {self.type}\")\n",
        "\n",
        "# Derived class\n",
        "class Car(Vehicle):\n",
        "    def __init__(self, brand, model, type=\"Car\"):\n",
        "        super().__init__(type)  # Call Vehicle's constructor\n",
        "        self.brand = brand\n",
        "        self.model = model\n",
        "\n",
        "    def show_car(self):\n",
        "        print(f\"Car: {self.brand} {self.model}\")\n",
        "\n",
        "# Further derived class\n",
        "class ElectricCar(Car):\n",
        "    def __init__(self, brand, model, battery_capacity):\n",
        "        super().__init__(brand, model)  # Call Car's constructor\n",
        "        self.battery_capacity = battery_capacity\n",
        "\n",
        "    def show_battery(self):\n",
        "        print(f\"Battery Capacity: {self.battery_capacity} kWh\")\n",
        "\n",
        "# Creating an instance\n",
        "tesla = ElectricCar(\"Tesla\", \"Model 3\", 75)\n",
        "\n",
        "# Calling methods from all levels\n",
        "tesla.show_type()\n",
        "tesla.show_car()\n",
        "tesla.show_battery()\n"
      ],
      "metadata": {
        "colab": {
          "base_uri": "https://localhost:8080/"
        },
        "id": "uz_5EOqQyZRD",
        "outputId": "464e924c-9d61-49b0-ad99-a03c8a40a46a"
      },
      "execution_count": null,
      "outputs": [
        {
          "output_type": "stream",
          "name": "stdout",
          "text": [
            "Vehicle Type: Car\n",
            "Car: Tesla Model 3\n",
            "Battery Capacity: 75 kWh\n"
          ]
        }
      ]
    },
    {
      "cell_type": "markdown",
      "source": [
        "# **Q4. Demonstrate polymorphism by creating a base class Bird with a method fly().** **Create two derived classes Sparrow and Penguin that override the fly()** **method.**\n"
      ],
      "metadata": {
        "id": "GMiBLScR9PKe"
      }
    },
    {
      "cell_type": "code",
      "source": [
        "class Bird:\n",
        "    def fly(self):\n",
        "        \"\"\"General flying behavior for birds\"\"\"\n",
        "        raise NotImplementedError(\"Subclass must implement abstract method\")\n",
        "\n",
        "class Sparrow(Bird):\n",
        "    def fly(self):\n",
        "        return \"Sparrow: I can fly high in the sky!\"\n",
        "\n",
        "class Penguin(Bird):\n",
        "    def fly(self):\n",
        "        return \"Penguin: I can't fly, but I can swim!\"\n",
        "\n",
        "# Creating instances of Sparrow and Penguin\n",
        "bird1 = Sparrow()\n",
        "bird2 = Penguin()\n",
        "\n",
        "# Demonstrating polymorphism\n",
        "print(bird1.fly())\n",
        "print(bird2.fly())\n"
      ],
      "metadata": {
        "colab": {
          "base_uri": "https://localhost:8080/"
        },
        "id": "jP_kHSQD_Eza",
        "outputId": "fcd243a9-29b5-4610-c8fb-ca0521ddf38b"
      },
      "execution_count": 1,
      "outputs": [
        {
          "output_type": "stream",
          "name": "stdout",
          "text": [
            "Sparrow: I can fly high in the sky!\n",
            "Penguin: I can't fly, but I can swim!\n"
          ]
        }
      ]
    },
    {
      "cell_type": "markdown",
      "source": [
        "# **Q5**. **Write a program to demonstrate encapsulation by creating a class BankAccount with private attributes balance and methods to deposit, withdraw, and check balance.**"
      ],
      "metadata": {
        "id": "3HUf-npc_ijT"
      }
    },
    {
      "cell_type": "code",
      "source": [
        "class BankAccount:\n",
        "    def __init__(self, initial_balance=0):\n",
        "        self.__balance = initial_balance  # Private attribute\n",
        "\n",
        "    def deposit(self, amount):\n",
        "        \"\"\"Method to deposit money into the account\"\"\"\n",
        "        if amount > 0:\n",
        "            self.__balance += amount\n",
        "            return f\"Deposited: ${amount}. New Balance: ${self.__balance}\"\n",
        "        else:\n",
        "            return \"Deposit amount must be positive.\"\n",
        "\n",
        "    def withdraw(self, amount):\n",
        "        \"\"\"Method to withdraw money from the account\"\"\"\n",
        "        if amount > 0:\n",
        "            if amount <= self.__balance:\n",
        "                self.__balance -= amount\n",
        "                return f\"Withdrawn: ${amount}. Remaining Balance: ${self.__balance}\"\n",
        "            else:\n",
        "                return \"Insufficient balance.\"\n",
        "        else:\n",
        "            return \"Withdrawal amount must be positive.\"\n",
        "\n",
        "    def check_balance(self):\n",
        "        \"\"\"Method to check account balance\"\"\"\n",
        "        return f\"Current Balance: ${self.__balance}\"\n",
        "\n",
        "# Creating an instance of BankAccount\n",
        "account = BankAccount(1000)  # Initial balance of $1000\n",
        "\n",
        "# Performing operations\n",
        "print(account.deposit(500))\n",
        "print(account.withdraw(300))\n",
        "print(account.check_balance())\n",
        "\n",
        "# Trying to access private attribute directly (will cause an error)\n",
        "# print(account.__balance)  # Uncommenting this will raise an AttributeError\n"
      ],
      "metadata": {
        "colab": {
          "base_uri": "https://localhost:8080/"
        },
        "id": "9YnWsYJa_2oU",
        "outputId": "fdf866fb-f013-4f44-af86-f860c3c5761b"
      },
      "execution_count": 2,
      "outputs": [
        {
          "output_type": "stream",
          "name": "stdout",
          "text": [
            "Deposited: $500. New Balance: $1500\n",
            "Withdrawn: $300. Remaining Balance: $1200\n",
            "Current Balance: $1200\n"
          ]
        }
      ]
    },
    {
      "cell_type": "markdown",
      "source": [
        "# **Q6.  Demonstrate runtime polymorphism using a method play() in a base class Instrument. Derive classes Guitar and Piano that implement their own version of play().**"
      ],
      "metadata": {
        "id": "AFWwORfwAXR6"
      }
    },
    {
      "cell_type": "code",
      "source": [
        "class Instrument:\n",
        "    def play(self):\n",
        "        \"\"\"General method to be overridden by subclasses\"\"\"\n",
        "        raise NotImplementedError(\"Subclass must implement abstract method\")\n",
        "\n",
        "class Guitar(Instrument):\n",
        "    def play(self):\n",
        "        return \"Guitar is playing: 🎸 Strumming chords!\"\n",
        "\n",
        "class Piano(Instrument):\n",
        "    def play(self):\n",
        "        return \"Piano is playing: 🎹 Classical melody!\"\n",
        "\n",
        "# Demonstrating runtime polymorphism\n",
        "def perform(instrument):\n",
        "    print(instrument.play())\n",
        "\n",
        "# Creating instances of Guitar and Piano\n",
        "guitar = Guitar()\n",
        "piano = Piano()\n",
        "\n",
        "# Calling the same method on different objects (runtime polymorphism)\n",
        "perform(guitar)\n",
        "perform(piano)\n"
      ],
      "metadata": {
        "colab": {
          "base_uri": "https://localhost:8080/"
        },
        "id": "jmJ-iFldAqjS",
        "outputId": "ddfe701a-d604-463c-de4e-b51d03ff37aa"
      },
      "execution_count": 3,
      "outputs": [
        {
          "output_type": "stream",
          "name": "stdout",
          "text": [
            "Guitar is playing: 🎸 Strumming chords!\n",
            "Piano is playing: 🎹 Classical melody!\n"
          ]
        }
      ]
    },
    {
      "cell_type": "markdown",
      "source": [
        "# **Q7. Create a class MathOperations with a class method add_numbers() to add two numbers and a static method subtract_numbers() to subtract two numbers.**"
      ],
      "metadata": {
        "id": "rcfXi6XpA8Ys"
      }
    },
    {
      "cell_type": "code",
      "source": [
        "class MathOperations:\n",
        "    @classmethod\n",
        "    def add_numbers(cls, a, b):\n",
        "        \"\"\"Class method to add two numbers\"\"\"\n",
        "        return f\"Sum: {a + b}\"\n",
        "\n",
        "    @staticmethod\n",
        "    def subtract_numbers(a, b):\n",
        "        \"\"\"Static method to subtract two numbers\"\"\"\n",
        "        return f\"Difference: {a - b}\"\n",
        "\n",
        "# Using the class method and static method\n",
        "print(MathOperations.add_numbers(10, 5))\n",
        "print(MathOperations.subtract_numbers(10, 5))\n"
      ],
      "metadata": {
        "colab": {
          "base_uri": "https://localhost:8080/"
        },
        "id": "7grp8575BWaX",
        "outputId": "327c0f1a-d99e-4637-f448-0e5ad7473cea"
      },
      "execution_count": 4,
      "outputs": [
        {
          "output_type": "stream",
          "name": "stdout",
          "text": [
            "Sum: 15\n",
            "Difference: 5\n"
          ]
        }
      ]
    },
    {
      "cell_type": "markdown",
      "source": [
        "# **Q8. Implement a class Person with a class method to count the total number of persons created.**\n",
        "\n",
        "\n"
      ],
      "metadata": {
        "id": "rfj-8ge2Bu5V"
      }
    },
    {
      "cell_type": "code",
      "source": [
        "class Person:\n",
        "    count = 0  # Class variable to store the count of persons\n",
        "\n",
        "    def __init__(self, name):\n",
        "        self.name = name\n",
        "        Person.count += 1  # Increment count when a new instance is created\n",
        "\n",
        "    @classmethod\n",
        "    def total_persons(cls):\n",
        "        \"\"\"Class method to return the total count of persons created\"\"\"\n",
        "        return f\"Total persons created: {cls.count}\"\n",
        "\n",
        "# Creating instances of Person\n",
        "p1 = Person(\"Alice\")\n",
        "p2 = Person(\"Bob\")\n",
        "p3 = Person(\"Charlie\")\n",
        "\n",
        "# Checking the total number of persons created\n",
        "print(Person.total_persons())\n"
      ],
      "metadata": {
        "colab": {
          "base_uri": "https://localhost:8080/"
        },
        "id": "4ZTwCelPCFGE",
        "outputId": "5e50befb-027d-45c8-841c-21c0a3c098b9"
      },
      "execution_count": 5,
      "outputs": [
        {
          "output_type": "stream",
          "name": "stdout",
          "text": [
            "Total persons created: 3\n"
          ]
        }
      ]
    },
    {
      "cell_type": "markdown",
      "source": [
        "# **Q9. Write a class Fraction with attributes numerator and denominator. Override the str method to display the fraction as \"numerator/denominator\".**"
      ],
      "metadata": {
        "id": "abQ0hPIbCPaU"
      }
    },
    {
      "cell_type": "code",
      "source": [
        "class Fraction:\n",
        "    def __init__(self, numerator, denominator):\n",
        "        if denominator == 0:\n",
        "            raise ValueError(\"Denominator cannot be zero\")  # Handling division by zero\n",
        "        self.numerator = numerator\n",
        "        self.denominator = denominator\n",
        "\n",
        "    def __str__(self):\n",
        "        \"\"\"Override str method to display the fraction\"\"\"\n",
        "        return f\"{self.numerator}/{self.denominator}\"\n",
        "\n",
        "# Creating fraction instances\n",
        "f1 = Fraction(3, 5)\n",
        "f2 = Fraction(5, 8)\n",
        "\n",
        "# Displaying fractions\n",
        "print(f1)\n",
        "print(f2)\n"
      ],
      "metadata": {
        "colab": {
          "base_uri": "https://localhost:8080/"
        },
        "id": "NfVEWkZBCO-X",
        "outputId": "cec9c173-86b7-4d96-bde8-ef9ce8425e56"
      },
      "execution_count": 10,
      "outputs": [
        {
          "output_type": "stream",
          "name": "stdout",
          "text": [
            "3/5\n",
            "5/8\n"
          ]
        }
      ]
    },
    {
      "cell_type": "markdown",
      "source": [
        "# **Q10.  Demonstrate operator overloading by creating a class Vector and overriding the add method to add two vectors.**\n",
        "\n",
        "\n"
      ],
      "metadata": {
        "id": "2p1YeSDqDEf4"
      }
    },
    {
      "cell_type": "code",
      "source": [
        "class Vector:\n",
        "    def __init__(self, x, y):\n",
        "        self.x = x\n",
        "        self.y = y\n",
        "\n",
        "    def __add__(self, other):\n",
        "        \"\"\"Overloading the + operator to add two vectors\"\"\"\n",
        "        if isinstance(other, Vector):\n",
        "            return Vector(self.x + other.x, self.y + other.y)\n",
        "        raise TypeError(\"Operand must be an instance of Vector\")\n",
        "\n",
        "    def __str__(self):\n",
        "        \"\"\"String representation of a Vector\"\"\"\n",
        "        return f\"({self.x}, {self.y})\"\n",
        "\n",
        "# Creating vector instances\n",
        "v1 = Vector(3, 4)\n",
        "v2 = Vector(1, 2)\n",
        "\n",
        "# Adding vectors using the overloaded + operator\n",
        "result = v1 + v2\n",
        "\n",
        "# Displaying the result\n",
        "print(f\"Vector 1: {v1}\")\n",
        "print(f\"Vector 2: {v2}\")\n",
        "print(f\"Result (v1 + v2): {result}\")\n"
      ],
      "metadata": {
        "colab": {
          "base_uri": "https://localhost:8080/"
        },
        "id": "XhzvCKdZDDHq",
        "outputId": "3727dea4-255b-4add-dda6-8906fc4ee980"
      },
      "execution_count": 11,
      "outputs": [
        {
          "output_type": "stream",
          "name": "stdout",
          "text": [
            "Vector 1: (3, 4)\n",
            "Vector 2: (1, 2)\n",
            "Result (v1 + v2): (4, 6)\n"
          ]
        }
      ]
    },
    {
      "cell_type": "markdown",
      "source": [
        "# **Q11. Create a class Person with attributes name and age. Add a method greet() that prints \"Hello, my name is {name} and I am {age} years old.**"
      ],
      "metadata": {
        "id": "pNaIbBYQDq9u"
      }
    },
    {
      "cell_type": "code",
      "source": [
        "class Person:\n",
        "    def __init__(self, name, age):\n",
        "        \"\"\"Initialize Person with name and age\"\"\"\n",
        "        self.name = name\n",
        "        self.age = age\n",
        "\n",
        "    def greet(self):\n",
        "        \"\"\"Method to print a greeting message\"\"\"\n",
        "        print(f\"Hello, my name is {self.name} and I am {self.age} years old.\")\n",
        "\n",
        "# Creating an instance of Person\n",
        "person1 = Person(\"Alice\", 25)\n",
        "\n",
        "# Calling the greet method\n",
        "person1.greet()\n"
      ],
      "metadata": {
        "colab": {
          "base_uri": "https://localhost:8080/"
        },
        "id": "hHpmbBhnEEQR",
        "outputId": "c79f8a4b-a2eb-4414-ac93-cf2a8fcca7bf"
      },
      "execution_count": 12,
      "outputs": [
        {
          "output_type": "stream",
          "name": "stdout",
          "text": [
            "Hello, my name is Alice and I am 25 years old.\n"
          ]
        }
      ]
    },
    {
      "cell_type": "markdown",
      "source": [
        "# **Q12.  Implement a class Student with attributes name and grades. Create a method average_grade() to computethe average of the grades.**"
      ],
      "metadata": {
        "id": "TdzZ3BrsETS9"
      }
    },
    {
      "cell_type": "code",
      "source": [
        "class Student:\n",
        "    def __init__(self, name, grades):\n",
        "        \"\"\"Initialize Student with name and a list of grades\"\"\"\n",
        "        self.name = name\n",
        "        self.grades = grades  # List of grades\n",
        "\n",
        "    def average_grade(self):\n",
        "        \"\"\"Method to compute and return the average grade\"\"\"\n",
        "        if not self.grades:\n",
        "            return \"No grades available.\"\n",
        "        return sum(self.grades) / len(self.grades)\n",
        "\n",
        "# Creating an instance of Student\n",
        "student1 = Student(\"Alice\", [85, 90, 78, 92])\n",
        "\n",
        "# Computing and displaying the average grade\n",
        "print(f\"{student1.name}'s average grade: {student1.average_grade():.2f}\")\n",
        "\n"
      ],
      "metadata": {
        "colab": {
          "base_uri": "https://localhost:8080/"
        },
        "id": "0OLT5eiGEmfy",
        "outputId": "efdc3c9c-7eca-40f5-8841-2e7970e6810e"
      },
      "execution_count": 13,
      "outputs": [
        {
          "output_type": "stream",
          "name": "stdout",
          "text": [
            "Alice's average grade: 86.25\n"
          ]
        }
      ]
    },
    {
      "cell_type": "markdown",
      "source": [
        "# **Q13.Create a class Rectangle with methods set_dimensions() to set the dimensions and area() to calculate the area.**\n",
        "\n",
        "\n"
      ],
      "metadata": {
        "id": "KZxsfyhJEx8X"
      }
    },
    {
      "cell_type": "code",
      "source": [
        "class Rectangle:\n",
        "    def __init__(self, length=0, width=0):\n",
        "        \"\"\"Initialize Rectangle with default length and width\"\"\"\n",
        "        self.length = length\n",
        "        self.width = width\n",
        "\n",
        "    def set_dimensions(self, length, width):\n",
        "        \"\"\"Method to set the dimensions of the rectangle\"\"\"\n",
        "        self.length = length\n",
        "        self.width = width\n",
        "\n",
        "    def area(self):\n",
        "        \"\"\"Method to calculate the area of the rectangle\"\"\"\n",
        "        return self.length * self.width\n",
        "\n",
        "# Creating an instance of Rectangle\n",
        "rect = Rectangle()\n",
        "\n",
        "# Setting dimensions\n",
        "rect.set_dimensions(5, 10)\n",
        "\n",
        "# Calculating and displaying the area\n",
        "print(f\"Rectangle Area: {rect.area()}\")\n"
      ],
      "metadata": {
        "colab": {
          "base_uri": "https://localhost:8080/"
        },
        "id": "PIF6DS-wFrDI",
        "outputId": "23529701-17f9-4537-d0db-f37f81fdc216"
      },
      "execution_count": 14,
      "outputs": [
        {
          "output_type": "stream",
          "name": "stdout",
          "text": [
            "Rectangle Area: 50\n"
          ]
        }
      ]
    },
    {
      "cell_type": "markdown",
      "source": [
        "# **Q14. Create a class Employee with a method calculate_salary() that computes the salary based on hours worked and hourly rate. Create a derived class Manager that adds a bonus to the salary**"
      ],
      "metadata": {
        "id": "vldxmkShF8lQ"
      }
    },
    {
      "cell_type": "code",
      "source": [
        "class Employee:\n",
        "    def __init__(self, name, hours_worked, hourly_rate):\n",
        "        \"\"\"Initialize Employee with name, hours worked, and hourly rate\"\"\"\n",
        "        self.name = name\n",
        "        self.hours_worked = hours_worked\n",
        "        self.hourly_rate = hourly_rate\n",
        "\n",
        "    def calculate_salary(self):\n",
        "        \"\"\"Calculate salary based on hours worked and hourly rate\"\"\"\n",
        "        return self.hours_worked * self.hourly_rate\n",
        "\n",
        "class Manager(Employee):\n",
        "    def __init__(self, name, hours_worked, hourly_rate, bonus):\n",
        "        \"\"\"Initialize Manager with an additional bonus\"\"\"\n",
        "        super().__init__(name, hours_worked, hourly_rate)\n",
        "        self.bonus = bonus\n",
        "\n",
        "    def calculate_salary(self):\n",
        "        \"\"\"Calculate salary including bonus\"\"\"\n",
        "        return super().calculate_salary() + self.bonus\n",
        "\n",
        "# Creating Employee instance\n",
        "emp = Employee(\"Alice\", 40, 20)  # 40 hours, $20/hour\n",
        "print(f\"{emp.name}'s Salary: ${emp.calculate_salary()}\")\n",
        "\n",
        "# Creating Manager instance\n",
        "mgr = Manager(\"Bob\", 40, 30, 500)  # 40 hours, $30/hour, $500 bonus\n",
        "print(f\"{mgr.name}'s Salary: ${mgr.calculate_salary()}\")\n"
      ],
      "metadata": {
        "colab": {
          "base_uri": "https://localhost:8080/"
        },
        "id": "eN_EyufTIMqH",
        "outputId": "70a67fd1-e9b3-4c29-806d-11d072c2deb7"
      },
      "execution_count": 15,
      "outputs": [
        {
          "output_type": "stream",
          "name": "stdout",
          "text": [
            "Alice's Salary: $800\n",
            "Bob's Salary: $1700\n"
          ]
        }
      ]
    },
    {
      "cell_type": "markdown",
      "source": [
        "# **Q15. Create a class Product with attributes name, price, and quantity.Implement a method total_price() that calculates the total price of the product.**\n",
        "\n",
        "\n"
      ],
      "metadata": {
        "id": "LkBQC_0XIpHD"
      }
    },
    {
      "cell_type": "code",
      "source": [
        "class Product:\n",
        "    def __init__(self, name, price, quantity):\n",
        "        \"\"\"Initialize Product with name, price per unit, and quantity\"\"\"\n",
        "        self.name = name\n",
        "        self.price = price\n",
        "        self.quantity = quantity\n",
        "\n",
        "    def total_price(self):\n",
        "        \"\"\"Calculate total price based on price per unit and quantity\"\"\"\n",
        "        return self.price * self.quantity\n",
        "\n",
        "# Creating instances of Product\n",
        "product1 = Product(\"Laptop\", 800, 2)\n",
        "product2 = Product(\"Phone\", 500, 3)\n",
        "\n",
        "# Calculating and displaying total price\n",
        "print(f\"Total price for {product1.name}: ${product1.total_price()}\")\n",
        "print(f\"Total price for {product2.name}: ${product2.total_price()}\")\n"
      ],
      "metadata": {
        "colab": {
          "base_uri": "https://localhost:8080/"
        },
        "id": "6RBj9TPsJlRr",
        "outputId": "465cfbfe-1643-4372-fa23-0334bcedaad7"
      },
      "execution_count": 16,
      "outputs": [
        {
          "output_type": "stream",
          "name": "stdout",
          "text": [
            "Total price for Laptop: $1600\n",
            "Total price for Phone: $1500\n"
          ]
        }
      ]
    },
    {
      "cell_type": "markdown",
      "source": [
        "# **16.  Create a class Animal with an abstract method sound(). Create two derived classes Cow and Sheep that implement the sound() method.**"
      ],
      "metadata": {
        "id": "zVq-lpFBJwqX"
      }
    },
    {
      "cell_type": "code",
      "source": [
        "from abc import ABC, abstractmethod\n",
        "\n",
        "class Animal(ABC):\n",
        "    @abstractmethod\n",
        "    def sound(self):\n",
        "        \"\"\"Abstract method to be implemented by subclasses\"\"\"\n",
        "        pass\n",
        "\n",
        "class Cow(Animal):\n",
        "    def sound(self):\n",
        "        return \"Cow says: Moo! 🐄\"\n",
        "\n",
        "class Sheep(Animal):\n",
        "    def sound(self):\n",
        "        return \"Sheep says: Baa! 🐑\"\n",
        "\n",
        "# Creating instances of Cow and Sheep\n",
        "cow = Cow()\n",
        "sheep = Sheep()\n",
        "\n",
        "# Calling the sound method\n",
        "print(cow.sound())\n",
        "print(sheep.sound())\n"
      ],
      "metadata": {
        "colab": {
          "base_uri": "https://localhost:8080/"
        },
        "id": "Q-ePfekuJ_3k",
        "outputId": "edb6b7de-4468-4ebf-ccf6-575f7ad2a6f3"
      },
      "execution_count": 17,
      "outputs": [
        {
          "output_type": "stream",
          "name": "stdout",
          "text": [
            "Cow says: Moo! 🐄\n",
            "Sheep says: Baa! 🐑\n"
          ]
        }
      ]
    },
    {
      "cell_type": "markdown",
      "source": [
        "# **Q17. Create a class Book with attributes title, author, and year_published. Add a method get_book_info() that  returns a formatted string with the book's details.**"
      ],
      "metadata": {
        "id": "MjPUsG8rKSFK"
      }
    },
    {
      "cell_type": "code",
      "source": [
        "class Book:\n",
        "    def __init__(self, title, author, year_published):\n",
        "        \"\"\"Initialize Book with title, author, and year published\"\"\"\n",
        "        self.title = title\n",
        "        self.author = author\n",
        "        self.year_published = year_published\n",
        "\n",
        "    def get_book_info(self):\n",
        "        \"\"\"Return a formatted string with the book's details\"\"\"\n",
        "        return f\"'{self.title}' by {self.author}, published in {self.year_published}.\"\n",
        "\n",
        "# Creating instances of Book\n",
        "book1 = Book(\"To Kill a Mockingbird\", \"Harper Lee\", 1960)\n",
        "book2 = Book(\"1984\", \"George Orwell\", 1949)\n",
        "\n",
        "# Displaying book information\n",
        "print(book1.get_book_info())\n",
        "print(book2.get_book_info())\n"
      ],
      "metadata": {
        "colab": {
          "base_uri": "https://localhost:8080/"
        },
        "id": "SgvBt5OkKmlB",
        "outputId": "92469dda-feb4-45e8-e9e0-87096d21d6ee"
      },
      "execution_count": 18,
      "outputs": [
        {
          "output_type": "stream",
          "name": "stdout",
          "text": [
            "'To Kill a Mockingbird' by Harper Lee, published in 1960.\n",
            "'1984' by George Orwell, published in 1949.\n"
          ]
        }
      ]
    },
    {
      "cell_type": "markdown",
      "source": [
        "# **Q18.  Create a class House with attributes address and price. Create a derived class Mansion that adds an attribute number_of_rooms.**"
      ],
      "metadata": {
        "id": "eMcfHlBRKxLF"
      }
    },
    {
      "cell_type": "code",
      "source": [
        "class House:\n",
        "    def __init__(self, address, price):\n",
        "        \"\"\"Initialize House with address and price\"\"\"\n",
        "        self.address = address\n",
        "        self.price = price\n",
        "\n",
        "    def get_info(self):\n",
        "        \"\"\"Return a formatted string with house details\"\"\"\n",
        "        return f\"Address: {self.address}, Price: ${self.price:,}\"\n",
        "\n",
        "class Mansion(House):\n",
        "    def __init__(self, address, price, number_of_rooms):\n",
        "        \"\"\"Initialize Mansion with an additional number_of_rooms attribute\"\"\"\n",
        "        super().__init__(address, price)\n",
        "        self.number_of_rooms = number_of_rooms\n",
        "\n",
        "    def get_info(self):\n",
        "        \"\"\"Return a formatted string with mansion details\"\"\"\n",
        "        return f\"{super().get_info()}, Number of Rooms: {self.number_of_rooms}\"\n",
        "\n",
        "# Creating an instance of House\n",
        "house = House(\"123 Main St\", 250000)\n",
        "print(house.get_info())\n"
      ],
      "metadata": {
        "colab": {
          "base_uri": "https://localhost:8080/"
        },
        "id": "jHo3p-MnLAiR",
        "outputId": "c17d95e7-48d8-4227-8fdd-4b41946315c6"
      },
      "execution_count": 19,
      "outputs": [
        {
          "output_type": "stream",
          "name": "stdout",
          "text": [
            "Address: 123 Main St, Price: $250,000\n"
          ]
        }
      ]
    }
  ]
}